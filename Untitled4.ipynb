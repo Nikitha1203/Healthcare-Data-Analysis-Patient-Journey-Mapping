{
  "nbformat": 4,
  "nbformat_minor": 0,
  "metadata": {
    "colab": {
      "provenance": []
    },
    "kernelspec": {
      "name": "python3",
      "display_name": "Python 3"
    },
    "language_info": {
      "name": "python"
    }
  },
  "cells": [
    {
      "cell_type": "code",
      "execution_count": 4,
      "metadata": {
        "colab": {
          "base_uri": "https://localhost:8080/",
          "height": 672
        },
        "id": "Fu6NogK1jTwH",
        "outputId": "c9c45c12-d351-4903-d2ea-5eb5546f9a79"
      },
      "outputs": [
        {
          "output_type": "display_data",
          "data": {
            "text/plain": [
              "<IPython.core.display.Javascript object>"
            ],
            "application/javascript": [
              "(async (port, path, width, height, cache, element) => {\n",
              "    if (!google.colab.kernel.accessAllowed && !cache) {\n",
              "      return;\n",
              "    }\n",
              "    element.appendChild(document.createTextNode(''));\n",
              "    const url = await google.colab.kernel.proxyPort(port, {cache});\n",
              "    const iframe = document.createElement('iframe');\n",
              "    iframe.src = new URL(path, url).toString();\n",
              "    iframe.height = height;\n",
              "    iframe.width = width;\n",
              "    iframe.style.border = 0;\n",
              "    iframe.allow = [\n",
              "        'accelerometer',\n",
              "        'autoplay',\n",
              "        'camera',\n",
              "        'clipboard-read',\n",
              "        'clipboard-write',\n",
              "        'gyroscope',\n",
              "        'magnetometer',\n",
              "        'microphone',\n",
              "        'serial',\n",
              "        'usb',\n",
              "        'xr-spatial-tracking',\n",
              "    ].join('; ');\n",
              "    element.appendChild(iframe);\n",
              "  })(8050, \"/\", \"100%\", 650, false, window.element)"
            ]
          },
          "metadata": {}
        }
      ],
      "source": [
        "import dash\n",
        "from dash import dcc, html\n",
        "import plotly.express as px\n",
        "import pandas as pd\n",
        "\n",
        "# Load the dataset\n",
        "file_path = '/content/healthcare_patient_journey_data.csv'  # Replace with the actual file path\n",
        "df = pd.read_csv(file_path)\n",
        "\n",
        "# Initialize the Dash app\n",
        "app = dash.Dash(__name__)\n",
        "\n",
        "# Define the layout of the dashboard\n",
        "app.layout = html.Div([\n",
        "    html.H1(\"Healthcare Data Analysis Dashboard\", style={'text-align': 'center'}),\n",
        "\n",
        "    # Waiting Time Distribution Histogram\n",
        "    dcc.Graph(\n",
        "        id='waiting-time-histogram',\n",
        "        figure=px.histogram(df, x='WaitingTime', nbins=20, title='Waiting Time Distribution',\n",
        "                            color_discrete_sequence=['#0074D9']),\n",
        "        style={'height': '400px'}\n",
        "    ),\n",
        "\n",
        "    # Daily Patient Admissions Over Time\n",
        "    dcc.Graph(\n",
        "        id='daily-admissions-time-series',\n",
        "        figure=px.line(df['AdmissionDate'].value_counts().sort_index(),\n",
        "                        title='Daily Patient Admissions Over Time',\n",
        "                        color_discrete_sequence=['#FF4136']),\n",
        "        style={'height': '400px'}\n",
        "    ),\n",
        "\n",
        "    # Patient Age vs. Waiting Time Scatter Plot\n",
        "    dcc.Graph(\n",
        "        id='age-vs-waiting-time',\n",
        "        figure=px.scatter(df, x='Age', y='WaitingTime', title='Patient Age vs. Waiting Time',\n",
        "                            color_discrete_sequence=['#2ECC40']),\n",
        "        style={'height': '400px'}\n",
        "    ),\n",
        "\n",
        "    # Bottleneck Probability vs. Waiting Time Scatter Plot\n",
        "    dcc.Graph(\n",
        "        id='bottleneck-vs-waiting-time',\n",
        "        figure=px.scatter(df, x='BottleneckProbability', y='WaitingTime',\n",
        "                            title='Bottleneck Probability vs. Waiting Time',\n",
        "                            color_discrete_sequence=['#FFDC00']),\n",
        "        style={'height': '400px'}\n",
        "    )\n",
        "])\n",
        "\n",
        "# Run the Dash app\n",
        "if __name__ == '__main__':\n",
        "    app.run_server(debug=True)"
      ]
    },
    {
      "cell_type": "code",
      "source": [],
      "metadata": {
        "id": "SRrZiEcqjiDg"
      },
      "execution_count": null,
      "outputs": []
    }
  ]
}